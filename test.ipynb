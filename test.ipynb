{
 "cells": [
  {
   "cell_type": "code",
   "execution_count": 2,
   "metadata": {},
   "outputs": [],
   "source": [
    "import glob\n",
    "import io\n",
    "\n",
    "import polars as pl \n",
    "from google.cloud import bigquery\n",
    "\n",
    "import pandas as pd"
   ]
  },
  {
   "cell_type": "code",
   "execution_count": 16,
   "metadata": {},
   "outputs": [],
   "source": [
    "def extract_new_trades():\n",
    "    file_paths = glob.glob(\"/Users/manishvasu/Downloads/tradebook*.csv\")\n",
    "    df = pl.read_csv(file_paths[0])\n",
    "\n",
    "    df = df.select(pl.col(\"symbol\"),\n",
    "                   pl.col(\"isin\"),\n",
    "                   pl.col(\"trade_date\").str.to_date(format=\"%d/%m/%y\"),\n",
    "                   pl.col(\"exchange\"),\n",
    "                   pl.col(\"trade_type\"),\n",
    "                   pl.col(\"quantity\").cast(pl.Int64),\n",
    "                   pl.col(\"price\"))\n",
    "\n",
    "    df = df.with_columns(pnl=pl.lit(None).cast(pl.Float64))\n",
    "\n",
    "    return df"
   ]
  },
  {
   "cell_type": "code",
   "execution_count": 17,
   "metadata": {},
   "outputs": [],
   "source": [
    "def load_new_trades(df):\n",
    "    client = bigquery.Client()\n",
    "\n",
    "    with io.BytesIO() as stream:\n",
    "        df.write_parquet(stream)\n",
    "        stream.seek(0)\n",
    "        job = client.load_table_from_file(\n",
    "            stream,\n",
    "            destination='plutus-424506.equity.equity-pnl',\n",
    "            project='plutus-424506',\n",
    "            job_config=bigquery.LoadJobConfig(\n",
    "                source_format=bigquery.SourceFormat.PARQUET,\n",
    "            ),\n",
    "        )\n",
    "    job.result() "
   ]
  },
  {
   "cell_type": "code",
   "execution_count": 18,
   "metadata": {},
   "outputs": [],
   "source": [
    "def extract_existing_trades():\n",
    "    client = bigquery.Client()\n",
    "\n",
    "    QUERY = (\n",
    "        'SELECT * FROM `plutus-424506.equity.equity-pnl`'\n",
    "        )\n",
    "    query_job = client.query(QUERY)\n",
    "    rows = query_job.result()\n",
    "\n",
    "    df = pl.from_arrow(rows.to_arrow())\n",
    "\n",
    "    return df"
   ]
  },
  {
   "cell_type": "code",
   "execution_count": 19,
   "metadata": {},
   "outputs": [
    {
     "data": {
      "text/html": [
       "<div><style>\n",
       ".dataframe > thead > tr,\n",
       ".dataframe > tbody > tr {\n",
       "  text-align: right;\n",
       "  white-space: pre-wrap;\n",
       "}\n",
       "</style>\n",
       "<small>shape: (67, 8)</small><table border=\"1\" class=\"dataframe\"><thead><tr><th>symbol</th><th>isin</th><th>trade_date</th><th>exchange</th><th>trade_type</th><th>quantity</th><th>price</th><th>pnl</th></tr><tr><td>str</td><td>str</td><td>date</td><td>str</td><td>str</td><td>i64</td><td>f64</td><td>f64</td></tr></thead><tbody><tr><td>&quot;DISHTV&quot;</td><td>&quot;INE836F01026&quot;</td><td>2020-12-17</td><td>&quot;NSE&quot;</td><td>&quot;buy&quot;</td><td>1750</td><td>14.1</td><td>null</td></tr><tr><td>&quot;MEGH&quot;</td><td>&quot;INE974H01013&quot;</td><td>2020-12-17</td><td>&quot;NSE&quot;</td><td>&quot;buy&quot;</td><td>105</td><td>79.7</td><td>null</td></tr><tr><td>&quot;MEGH&quot;</td><td>&quot;INE974H01013&quot;</td><td>2020-12-17</td><td>&quot;NSE&quot;</td><td>&quot;buy&quot;</td><td>245</td><td>79.7</td><td>null</td></tr><tr><td>&quot;DISHTV&quot;</td><td>&quot;INE836F01026&quot;</td><td>2020-12-21</td><td>&quot;NSE&quot;</td><td>&quot;buy&quot;</td><td>1700</td><td>13.5</td><td>null</td></tr><tr><td>&quot;MEGH&quot;</td><td>&quot;INE974H01013&quot;</td><td>2020-12-21</td><td>&quot;NSE&quot;</td><td>&quot;buy&quot;</td><td>140</td><td>79.0</td><td>null</td></tr><tr><td>&hellip;</td><td>&hellip;</td><td>&hellip;</td><td>&hellip;</td><td>&hellip;</td><td>&hellip;</td><td>&hellip;</td><td>&hellip;</td></tr><tr><td>&quot;HUDCO&quot;</td><td>&quot;INE031A01017&quot;</td><td>2024-05-23</td><td>&quot;NSE&quot;</td><td>&quot;sell&quot;</td><td>31</td><td>270.0</td><td>null</td></tr><tr><td>&quot;ADANIPORTS&quot;</td><td>&quot;INE742F01042&quot;</td><td>2024-05-29</td><td>&quot;NSE&quot;</td><td>&quot;buy&quot;</td><td>11</td><td>1415.0</td><td>null</td></tr><tr><td>&quot;JIOFIN&quot;</td><td>&quot;INE758E01017&quot;</td><td>2024-05-29</td><td>&quot;NSE&quot;</td><td>&quot;buy&quot;</td><td>40</td><td>350.0</td><td>null</td></tr><tr><td>&quot;CARYSIL&quot;</td><td>&quot;INE482D01024&quot;</td><td>2024-06-03</td><td>&quot;BSE&quot;</td><td>&quot;buy&quot;</td><td>9</td><td>790.85</td><td>null</td></tr><tr><td>&quot;CARYSIL&quot;</td><td>&quot;INE482D01024&quot;</td><td>2024-06-03</td><td>&quot;BSE&quot;</td><td>&quot;buy&quot;</td><td>6</td><td>790.85</td><td>null</td></tr></tbody></table></div>"
      ],
      "text/plain": [
       "shape: (67, 8)\n",
       "┌────────────┬──────────────┬────────────┬──────────┬────────────┬──────────┬────────┬──────┐\n",
       "│ symbol     ┆ isin         ┆ trade_date ┆ exchange ┆ trade_type ┆ quantity ┆ price  ┆ pnl  │\n",
       "│ ---        ┆ ---          ┆ ---        ┆ ---      ┆ ---        ┆ ---      ┆ ---    ┆ ---  │\n",
       "│ str        ┆ str          ┆ date       ┆ str      ┆ str        ┆ i64      ┆ f64    ┆ f64  │\n",
       "╞════════════╪══════════════╪════════════╪══════════╪════════════╪══════════╪════════╪══════╡\n",
       "│ DISHTV     ┆ INE836F01026 ┆ 2020-12-17 ┆ NSE      ┆ buy        ┆ 1750     ┆ 14.1   ┆ null │\n",
       "│ MEGH       ┆ INE974H01013 ┆ 2020-12-17 ┆ NSE      ┆ buy        ┆ 105      ┆ 79.7   ┆ null │\n",
       "│ MEGH       ┆ INE974H01013 ┆ 2020-12-17 ┆ NSE      ┆ buy        ┆ 245      ┆ 79.7   ┆ null │\n",
       "│ DISHTV     ┆ INE836F01026 ┆ 2020-12-21 ┆ NSE      ┆ buy        ┆ 1700     ┆ 13.5   ┆ null │\n",
       "│ MEGH       ┆ INE974H01013 ┆ 2020-12-21 ┆ NSE      ┆ buy        ┆ 140      ┆ 79.0   ┆ null │\n",
       "│ …          ┆ …            ┆ …          ┆ …        ┆ …          ┆ …        ┆ …      ┆ …    │\n",
       "│ HUDCO      ┆ INE031A01017 ┆ 2024-05-23 ┆ NSE      ┆ sell       ┆ 31       ┆ 270.0  ┆ null │\n",
       "│ ADANIPORTS ┆ INE742F01042 ┆ 2024-05-29 ┆ NSE      ┆ buy        ┆ 11       ┆ 1415.0 ┆ null │\n",
       "│ JIOFIN     ┆ INE758E01017 ┆ 2024-05-29 ┆ NSE      ┆ buy        ┆ 40       ┆ 350.0  ┆ null │\n",
       "│ CARYSIL    ┆ INE482D01024 ┆ 2024-06-03 ┆ BSE      ┆ buy        ┆ 9        ┆ 790.85 ┆ null │\n",
       "│ CARYSIL    ┆ INE482D01024 ┆ 2024-06-03 ┆ BSE      ┆ buy        ┆ 6        ┆ 790.85 ┆ null │\n",
       "└────────────┴──────────────┴────────────┴──────────┴────────────┴──────────┴────────┴──────┘"
      ]
     },
     "execution_count": 19,
     "metadata": {},
     "output_type": "execute_result"
    }
   ],
   "source": [
    "new_trades = extract_new_trades()\n",
    "new_trades"
   ]
  },
  {
   "cell_type": "code",
   "execution_count": 23,
   "metadata": {},
   "outputs": [
    {
     "data": {
      "text/html": [
       "<div><style>\n",
       ".dataframe > thead > tr,\n",
       ".dataframe > tbody > tr {\n",
       "  text-align: right;\n",
       "  white-space: pre-wrap;\n",
       "}\n",
       "</style>\n",
       "<small>shape: (4, 8)</small><table border=\"1\" class=\"dataframe\"><thead><tr><th>symbol</th><th>isin</th><th>trade_date</th><th>exchange</th><th>trade_type</th><th>quantity</th><th>price</th><th>pnl</th></tr><tr><td>str</td><td>str</td><td>date</td><td>str</td><td>str</td><td>i64</td><td>f64</td><td>f64</td></tr></thead><tbody><tr><td>&quot;ENGINERSIN&quot;</td><td>&quot;INE510A01028&quot;</td><td>2023-10-23</td><td>&quot;NSE&quot;</td><td>&quot;buy&quot;</td><td>72</td><td>131.1</td><td>null</td></tr><tr><td>&quot;ENGINERSIN&quot;</td><td>&quot;INE510A01028&quot;</td><td>2024-05-23</td><td>&quot;BSE&quot;</td><td>&quot;sell&quot;</td><td>16</td><td>285.0</td><td>null</td></tr><tr><td>&quot;ENGINERSIN&quot;</td><td>&quot;INE510A01028&quot;</td><td>2024-05-23</td><td>&quot;BSE&quot;</td><td>&quot;sell&quot;</td><td>10</td><td>285.0</td><td>null</td></tr><tr><td>&quot;ENGINERSIN&quot;</td><td>&quot;INE510A01028&quot;</td><td>2024-05-23</td><td>&quot;BSE&quot;</td><td>&quot;sell&quot;</td><td>10</td><td>285.0</td><td>null</td></tr></tbody></table></div>"
      ],
      "text/plain": [
       "shape: (4, 8)\n",
       "┌────────────┬──────────────┬────────────┬──────────┬────────────┬──────────┬───────┬──────┐\n",
       "│ symbol     ┆ isin         ┆ trade_date ┆ exchange ┆ trade_type ┆ quantity ┆ price ┆ pnl  │\n",
       "│ ---        ┆ ---          ┆ ---        ┆ ---      ┆ ---        ┆ ---      ┆ ---   ┆ ---  │\n",
       "│ str        ┆ str          ┆ date       ┆ str      ┆ str        ┆ i64      ┆ f64   ┆ f64  │\n",
       "╞════════════╪══════════════╪════════════╪══════════╪════════════╪══════════╪═══════╪══════╡\n",
       "│ ENGINERSIN ┆ INE510A01028 ┆ 2023-10-23 ┆ NSE      ┆ buy        ┆ 72       ┆ 131.1 ┆ null │\n",
       "│ ENGINERSIN ┆ INE510A01028 ┆ 2024-05-23 ┆ BSE      ┆ sell       ┆ 16       ┆ 285.0 ┆ null │\n",
       "│ ENGINERSIN ┆ INE510A01028 ┆ 2024-05-23 ┆ BSE      ┆ sell       ┆ 10       ┆ 285.0 ┆ null │\n",
       "│ ENGINERSIN ┆ INE510A01028 ┆ 2024-05-23 ┆ BSE      ┆ sell       ┆ 10       ┆ 285.0 ┆ null │\n",
       "└────────────┴──────────────┴────────────┴──────────┴────────────┴──────────┴───────┴──────┘"
      ]
     },
     "execution_count": 23,
     "metadata": {},
     "output_type": "execute_result"
    }
   ],
   "source": [
    "test_df = new_trades.select(pl.all()).filter(pl.col(\"symbol\") == \"ENGINERSIN\").sort(\"trade_date\")\n",
    "test_df"
   ]
  },
  {
   "cell_type": "code",
   "execution_count": 21,
   "metadata": {},
   "outputs": [
    {
     "name": "stdout",
     "output_type": "stream",
     "text": [
      "4845936640\n",
      "4845637376\n",
      "4845463104\n"
     ]
    }
   ],
   "source": [
    "arr = [[1], [2], [3]]\n",
    "x = map(id, arr)\n",
    "for i in x:\n",
    "    print(i)"
   ]
  },
  {
   "cell_type": "code",
   "execution_count": 22,
   "metadata": {},
   "outputs": [
    {
     "name": "stdout",
     "output_type": "stream",
     "text": [
      "4845936640\n",
      "4845637376\n",
      "[[1], [2]]\n",
      "4845936640\n",
      "4845637376\n",
      "[[1], [5]]\n",
      "4845936640\n",
      "4845637376\n",
      "4845463104\n"
     ]
    }
   ],
   "source": [
    "arr_2 = arr[0:2]\n",
    "y = map(id, arr_2)\n",
    "for i in y:\n",
    "    print(i)\n",
    "print(arr[0:2])\n",
    "\n",
    "arr[1][0] = 5 \n",
    "\n",
    "z = map(id, arr_2)\n",
    "for i in z:\n",
    "    print(i)\n",
    "print(arr_2)\n",
    "\n",
    "x = map(id, arr)\n",
    "for i in x:\n",
    "    print(i)"
   ]
  },
  {
   "cell_type": "code",
   "execution_count": null,
   "metadata": {},
   "outputs": [],
   "source": []
  }
 ],
 "metadata": {
  "kernelspec": {
   "display_name": "plutus",
   "language": "python",
   "name": "python3"
  },
  "language_info": {
   "codemirror_mode": {
    "name": "ipython",
    "version": 3
   },
   "file_extension": ".py",
   "mimetype": "text/x-python",
   "name": "python",
   "nbconvert_exporter": "python",
   "pygments_lexer": "ipython3",
   "version": "3.12.3"
  }
 },
 "nbformat": 4,
 "nbformat_minor": 2
}
